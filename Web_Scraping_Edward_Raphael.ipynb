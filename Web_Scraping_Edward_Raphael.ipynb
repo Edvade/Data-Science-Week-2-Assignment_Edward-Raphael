{
  "nbformat": 4,
  "nbformat_minor": 0,
  "metadata": {
    "colab": {
      "provenance": []
    },
    "kernelspec": {
      "name": "python3",
      "display_name": "Python 3"
    },
    "language_info": {
      "name": "python"
    }
  },
  "cells": [
    {
      "cell_type": "code",
      "execution_count": 26,
      "metadata": {
        "colab": {
          "base_uri": "https://localhost:8080/"
        },
        "id": "jEJYrRqhCUkR",
        "outputId": "0e1fda60-7cd4-4f2d-dbbf-2ce9c5049383"
      },
      "outputs": [
        {
          "output_type": "stream",
          "name": "stdout",
          "text": [
            "Scraping Complete\n"
          ]
        }
      ],
      "source": [
        "#COIN MARKET\n",
        "\n",
        "from bs4 import BeautifulSoup\n",
        "import requests\n",
        "import pandas as pd\n",
        "import csv\n",
        "\n",
        "url = \"https://coinmarketcap.com/\"\n",
        "response = requests.get(url)\n",
        "soup = BeautifulSoup(response.text, 'html.parser')\n",
        "\n",
        "table = soup.find('table', {'class': 'sc-7b3ac367-3 etbcea cmc-table'})\n",
        "\n",
        "with open('Crypto.csv', mode='w', newline='', encoding='utf-8') as file:\n",
        "    writer = csv.writer(file)\n",
        "    writer.writerow(['No.','Name', 'Price', '1h%', '24h%', '7d%', 'Market Cap', 'Volume(24h)', 'Circulating Supply'])\n",
        "\n",
        "    for row in table.find_all('tr')[1:]:\n",
        "        columns = row.find_all('td')\n",
        "\n",
        "        if len(columns) >= 9:\n",
        "            Number = columns[1].text.strip()\n",
        "            Name = columns[2].text.strip()\n",
        "            Price = columns[3].text.strip()\n",
        "            Hour = columns[4].text.strip()\n",
        "            Day = columns[5].text.strip()\n",
        "            Week = columns[6].text.strip()\n",
        "            MarketCap = columns[7].text.strip()\n",
        "            Volume = columns[8].text.strip()\n",
        "            CirculatingSupply = columns[9].text.strip()\n",
        "\n",
        "            writer.writerow([Number, Name, Price, Hour, Day, Week, MarketCap, Volume, CirculatingSupply])\n",
        "\n",
        "print(\"Scraping Complete\")\n"
      ]
    }
  ]
}